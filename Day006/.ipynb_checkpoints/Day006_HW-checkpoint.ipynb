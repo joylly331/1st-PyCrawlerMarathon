{
 "cells": [
  {
   "cell_type": "markdown",
   "metadata": {},
   "source": [
    "# API 資料串接 - 以 知乎 API 實作範例\n",
    "\n",
    "\n",
    "\n",
    "* 了解知乎 API 使用方式與回傳內容\n",
    "* 撰寫程式存取 API 且添加標頭\n",
    "\n",
    "\n"
   ]
  },
  {
   "cell_type": "markdown",
   "metadata": {},
   "source": [
    "## 作業目標\n",
    "\n",
    "* 根據範例提供的 API ，完成以下問題：\n",
    "\n",
    "    1. 取出知乎問題發問時間\n",
    "    2. 取出第一筆與最後一筆回答的時間\n"
   ]
  },
  {
   "cell_type": "markdown",
   "metadata": {},
   "source": [
    "### 1. 取出知乎問題發問時間"
   ]
  },
  {
   "cell_type": "code",
   "execution_count": 4,
   "metadata": {},
   "outputs": [
    {
     "name": "stdout",
     "output_type": "stream",
     "text": [
      "5\n",
      "0 > id\n",
      "1 > type\n",
      "2 > answer_type\n",
      "3 > question\n",
      "4 > author\n",
      "5 > url\n",
      "6 > is_collapsed\n",
      "7 > created_time\n",
      "8 > updated_time\n",
      "9 > extras\n",
      "10 > is_copyable\n",
      "11 > relationship\n",
      "12 > ad_answer\n",
      "0 > id\n",
      "1 > type\n",
      "2 > answer_type\n",
      "3 > question\n",
      "4 > author\n",
      "5 > url\n",
      "6 > is_collapsed\n",
      "7 > created_time\n",
      "8 > updated_time\n",
      "9 > extras\n",
      "10 > is_copyable\n",
      "11 > relationship\n",
      "12 > ad_answer\n",
      "0 > id\n",
      "1 > type\n",
      "2 > answer_type\n",
      "3 > question\n",
      "4 > author\n",
      "5 > url\n",
      "6 > is_collapsed\n",
      "7 > created_time\n",
      "8 > updated_time\n",
      "9 > extras\n",
      "10 > is_copyable\n",
      "11 > relationship\n",
      "12 > ad_answer\n",
      "0 > id\n",
      "1 > type\n",
      "2 > answer_type\n",
      "3 > question\n",
      "4 > author\n",
      "5 > url\n",
      "6 > is_collapsed\n",
      "7 > created_time\n",
      "8 > updated_time\n",
      "9 > extras\n",
      "10 > is_copyable\n",
      "11 > relationship\n",
      "12 > ad_answer\n",
      "0 > id\n",
      "1 > type\n",
      "2 > answer_type\n",
      "3 > question\n",
      "4 > author\n",
      "5 > url\n",
      "6 > is_collapsed\n",
      "7 > created_time\n",
      "8 > updated_time\n",
      "9 > extras\n",
      "10 > is_copyable\n",
      "11 > relationship\n",
      "12 > ad_answer\n"
     ]
    }
   ],
   "source": [
    "import requests\n",
    "headers = {'user-agent': 'my-app/0.0.1'}\n",
    "r = requests.get('https://www.zhihu.com/api/v4/questions/55493026/answers',headers=headers)\n",
    "import json\n",
    "data = json.loads(r.text)\n",
    "print(len(data['data']))\n",
    "for d in data['data']:\n",
    "    for i, k in enumerate(d.keys()):\n",
    "        print(\"{} > {}\".format(i,k))\n",
    "\n",
    "\n"
   ]
  },
  {
   "cell_type": "code",
   "execution_count": 8,
   "metadata": {},
   "outputs": [
    {
     "name": "stdout",
     "output_type": "stream",
     "text": [
      "Mon Feb 06 22:10:29 2017\n",
      "Mon Feb 06 22:10:29 2017\n",
      "Mon Feb 06 22:10:29 2017\n",
      "Mon Feb 06 22:10:29 2017\n",
      "Mon Feb 06 22:10:29 2017\n"
     ]
    }
   ],
   "source": [
    "# 1. 取出知乎問題發問時間\n",
    "import time\n",
    "for d in data['data']:\n",
    "    print(time.strftime(\"%a %b %d %H:%M:%S %Y\", time.localtime(d[\"question\"][\"created\"])))"
   ]
  },
  {
   "cell_type": "markdown",
   "metadata": {},
   "source": [
    "### 2. 取出第一筆與最後一筆回答的時間"
   ]
  },
  {
   "cell_type": "code",
   "execution_count": 9,
   "metadata": {},
   "outputs": [
    {
     "name": "stdout",
     "output_type": "stream",
     "text": [
      "Tue May 14 17:00:12 2019\n",
      "Tue Oct 29 11:07:06 2019\n"
     ]
    }
   ],
   "source": [
    "# 2. 取出第一筆與最後一筆回答的時間\n",
    "\n",
    "print(time.strftime(\"%a %b %d %H:%M:%S %Y\", time.localtime(data['data'][0][\"created_time\"])))\n",
    "print(time.strftime(\"%a %b %d %H:%M:%S %Y\", time.localtime(data['data'][-1][\"created_time\"])))\n",
    "\n",
    "\n",
    "\n"
   ]
  },
  {
   "cell_type": "code",
   "execution_count": null,
   "metadata": {},
   "outputs": [],
   "source": []
  },
  {
   "cell_type": "code",
   "execution_count": null,
   "metadata": {},
   "outputs": [],
   "source": []
  },
  {
   "cell_type": "code",
   "execution_count": null,
   "metadata": {},
   "outputs": [],
   "source": []
  }
 ],
 "metadata": {
  "kernelspec": {
   "display_name": "Python 3",
   "language": "python",
   "name": "python3"
  },
  "language_info": {
   "codemirror_mode": {
    "name": "ipython",
    "version": 3
   },
   "file_extension": ".py",
   "mimetype": "text/x-python",
   "name": "python",
   "nbconvert_exporter": "python",
   "pygments_lexer": "ipython3",
   "version": "3.7.4"
  }
 },
 "nbformat": 4,
 "nbformat_minor": 2
}
