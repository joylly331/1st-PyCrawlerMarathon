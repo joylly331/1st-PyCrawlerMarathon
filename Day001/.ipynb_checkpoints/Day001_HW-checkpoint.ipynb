{
 "cells": [
  {
   "cell_type": "code",
   "execution_count": null,
   "metadata": {},
   "outputs": [],
   "source": [
    "#1.（簡答題）檔案、API、爬蟲三種取得資料方式有什麼不同？"
   ]
  },
  {
   "cell_type": "code",
   "execution_count": null,
   "metadata": {},
   "outputs": [],
   "source": [
    "\"\"\"\n",
    "檔案與API屬於<主動>\n",
    "爬蟲屬於<被動>\n",
    "\n",
    "檔案可以直接下載資料檔案, 可被包成.JSON或.XML等\n",
    "API則是對方開放的程式接口, 可以利用程式去拿取, 並選擇要下載的內容\n",
    "爬蟲則是直接獲取網頁程式內容\n",
    "\"\"\""
   ]
  },
  {
   "cell_type": "code",
   "execution_count": null,
   "metadata": {},
   "outputs": [],
   "source": [
    "#2.（實作）完成一個程式，需滿足下列需求："
   ]
  },
  {
   "cell_type": "code",
   "execution_count": 1,
   "metadata": {},
   "outputs": [
    {
     "name": "stdout",
     "output_type": "stream",
     "text": [
      "usage: mkdir [-pv] [-m mode] directory ...\r\n"
     ]
    }
   ],
   "source": [
    "mkdir"
   ]
  },
  {
   "cell_type": "code",
   "execution_count": 2,
   "metadata": {},
   "outputs": [],
   "source": [
    "mkdir Data"
   ]
  },
  {
   "cell_type": "code",
   "execution_count": 6,
   "metadata": {},
   "outputs": [
    {
     "data": {
      "text/plain": [
       "('./Data/Homework.txt', <http.client.HTTPMessage at 0x10c2f8450>)"
      ]
     },
     "execution_count": 6,
     "metadata": {},
     "output_type": "execute_result"
    }
   ],
   "source": [
    "import os\n",
    "from urllib.request import urlretrieve\n",
    "\n",
    "#「下載指定檔案到 Data 資料夾，存成檔名 Homework.txt」的檔案網址：https://www.w3.org/TR/PNG/iso_8859-1.txt 或任一個 .txt 的檔案網址\n",
    "urlretrieve (\"https://www.w3.org/TR/PNG/iso_8859-1.txt\", \"./Data/Homework.txt\")"
   ]
  },
  {
   "cell_type": "code",
   "execution_count": 7,
   "metadata": {},
   "outputs": [
    {
     "name": "stdout",
     "output_type": "stream",
     "text": [
      "File exists\n"
     ]
    }
   ],
   "source": [
    "#檢查 Data 資料夾是否有 Homework.txt 檔名之檔案\n",
    "if os.path.isfile(\"./Data/Homework.txt\"):\n",
    "  print(\"File exists\")\n",
    "else:\n",
    "  print(\"File does not exists\")"
   ]
  },
  {
   "cell_type": "code",
   "execution_count": 11,
   "metadata": {},
   "outputs": [],
   "source": [
    "#將「Hello World」字串覆寫到 Homework.txt 檔案\n",
    "content = \"\"\n",
    "with open(\"./example/example1.txt\", \"r\") as fr:\n",
    "    content = fr.read()\n",
    "\n",
    "with open(\"./Data/Homework.txt\",\"w\") as fw:\n",
    "    fw.write(content)\n"
   ]
  },
  {
   "cell_type": "code",
   "execution_count": 12,
   "metadata": {},
   "outputs": [
    {
     "name": "stdout",
     "output_type": "stream",
     "text": [
      "Pass\n"
     ]
    }
   ],
   "source": [
    "#檢查 Homework.txt 檔案字數是否符合 Hello World 字數\n",
    "content2 = \"\"\n",
    "with open(\"./Data/Homework.txt\", \"r\") as fr:\n",
    "    content2 = fr.read()\n",
    "\n",
    "if len(content2) == len(content):\n",
    "    print(\"Pass\")\n",
    "else:\n",
    "    print(\"No same len\")"
   ]
  },
  {
   "cell_type": "code",
   "execution_count": null,
   "metadata": {},
   "outputs": [],
   "source": []
  }
 ],
 "metadata": {
  "kernelspec": {
   "display_name": "Python 3",
   "language": "python",
   "name": "python3"
  },
  "language_info": {
   "codemirror_mode": {
    "name": "ipython",
    "version": 3
   },
   "file_extension": ".py",
   "mimetype": "text/x-python",
   "name": "python",
   "nbconvert_exporter": "python",
   "pygments_lexer": "ipython3",
   "version": "3.7.4"
  }
 },
 "nbformat": 4,
 "nbformat_minor": 2
}
